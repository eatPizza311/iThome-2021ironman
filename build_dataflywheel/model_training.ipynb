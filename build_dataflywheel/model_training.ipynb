{
  "nbformat": 4,
  "nbformat_minor": 0,
  "metadata": {
    "colab": {
      "name": "model_training",
      "provenance": [],
      "collapsed_sections": [],
      "authorship_tag": "ABX9TyPXUdXjkqXfuhajXAMjJh27",
      "include_colab_link": true
    },
    "kernelspec": {
      "name": "python3",
      "display_name": "Python 3"
    },
    "language_info": {
      "name": "python"
    }
  },
  "cells": [
    {
      "cell_type": "markdown",
      "metadata": {
        "id": "view-in-github",
        "colab_type": "text"
      },
      "source": [
        "<a href=\"https://colab.research.google.com/github/eatPizza311/iThome-2021ironman/blob/main/build_dataflywheel/model_training.ipynb\" target=\"_parent\"><img src=\"https://colab.research.google.com/assets/colab-badge.svg\" alt=\"Open In Colab\"/></a>"
      ]
    },
    {
      "cell_type": "markdown",
      "metadata": {
        "id": "sCmS21rSklVa"
      },
      "source": [
        "# 訓練要部署的模型\n",
        "\n",
        "- 資料：取自 [300 Bird Species - Classification](https://www.kaggle.com/gpiosenka/100-bird-species?select=test)。\n",
        "- 模型：以 [EfficientNetB0](https://www.tensorflow.org/api_docs/python/tf/keras/applications/efficientnet/EfficientNetB0) 作為 Backbone 並搭配不同輸出層。\n",
        "- 產出：可上傳至 Google Storage 的 [`SaveModel`](https://www.tensorflow.org/guide/saved_model) 格式"
      ]
    },
    {
      "cell_type": "code",
      "metadata": {
        "id": "ZzOb8pxWhpH3"
      },
      "source": [
        ""
      ],
      "execution_count": null,
      "outputs": []
    }
  ]
}